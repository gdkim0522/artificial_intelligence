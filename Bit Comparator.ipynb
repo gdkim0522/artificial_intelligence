{
 "cells": [
  {
   "cell_type": "markdown",
   "id": "6c16caf5",
   "metadata": {},
   "source": [
    "AI Meme:  AI stole all my stuff and family can't eat.   But I got 100 retweets so I got that going for me.\n",
    "\n",
    "Programmer-Greg Kim\n",
    "Artificial Intelligence\n",
    "This is a bit comparator written in Python using Jupyter.  It is then uploaded to GitHub and a Google Colab link was\n",
    "submitted on BB to Professor to run the code.\n"
   ]
  },
  {
   "cell_type": "markdown",
   "id": "779c1e0b",
   "metadata": {},
   "source": [
    "These are the functions used.  One return the reversed string and another returns based 2 value by position."
   ]
  },
  {
   "cell_type": "code",
   "execution_count": 1,
   "id": "002939c3",
   "metadata": {},
   "outputs": [],
   "source": [
    "#Returns reversed string\n",
    "def rev_str(x):\n",
    "    return x[::-1]"
   ]
  },
  {
   "cell_type": "code",
   "execution_count": 2,
   "id": "cad3b2f0",
   "metadata": {},
   "outputs": [],
   "source": [
    "#Returns 2^exponent based on position\n",
    "def sum(pos):\n",
    "    \"\"\"\n",
    "    if pos==1:\n",
    "        num = 1\n",
    "    elif pos==2:\n",
    "        num = 2\n",
    "    elif pos==3:\n",
    "        num = 3\n",
    "    else:\n",
    "        num = -77\n",
    "    \"\"\"\n",
    "    return 2**pos\n"
   ]
  },
  {
   "cell_type": "code",
   "execution_count": 3,
   "id": "7481b559",
   "metadata": {},
   "outputs": [],
   "source": [
    "#Returns decimal of byte\n",
    "def decimal_byte(byte):\n",
    "    sum_total_A = 0\n",
    "    byte = rev_str(byte)\n",
    "\n",
    "    for i in range(len(byte)):\n",
    "        if int(byte[i]) == 1:\n",
    "            sum_total_A = int(sum_total_A) + int(sum(i))\n",
    "            \n",
    "    return sum_total_A"
   ]
  },
  {
   "cell_type": "code",
   "execution_count": 4,
   "id": "751b0aac",
   "metadata": {},
   "outputs": [],
   "source": [
    "#Compare decimal numbers\n",
    "def compare_decimal(A, B):\n",
    "    if A==B:\n",
    "        print('A equals B')\n",
    "    elif A < B:\n",
    "        print('A less than B')\n",
    "    else:\n",
    "        print('A greater than B')\n",
    "            \n"
   ]
  },
  {
   "cell_type": "markdown",
   "id": "c3df90ef",
   "metadata": {},
   "source": [
    "This is the main program that 8 bit values in variables."
   ]
  },
  {
   "cell_type": "code",
   "execution_count": 5,
   "id": "7e569325",
   "metadata": {},
   "outputs": [
    {
     "name": "stdout",
     "output_type": "stream",
     "text": [
      "a is 01001100\n",
      "b is 10000000\n",
      "\n",
      "\n",
      "Zero\n",
      "One\n",
      "Zero\n",
      "Zero\n",
      "One\n",
      "One\n",
      "Zero\n",
      "Zero\n"
     ]
    }
   ],
   "source": [
    "#Returns 2^exponent based on position\n",
    "a = '01001100'\n",
    "b = '10000000'\n",
    "\n",
    "c = ['11111111', '00111111', '00001111']\n",
    "d = ['00001111', '00111111', '00011111']\n",
    "\n",
    "print(\"a is \" + a)\n",
    "print(\"b is \" + b)\n",
    "\n",
    "print('\\n')\n",
    "\n",
    "\n",
    "for element in a:\n",
    "    if int(element) == 1:\n",
    "        print(\"One\")\n",
    "    else:\n",
    "        print(\"Zero\")\n",
    "    #print(element, end='')\n"
   ]
  },
  {
   "cell_type": "code",
   "execution_count": 6,
   "id": "d54ae328",
   "metadata": {},
   "outputs": [
    {
     "name": "stdout",
     "output_type": "stream",
     "text": [
      "\n",
      "A values\n",
      "Zero\n",
      "Zero\n",
      "One\n",
      "One\n",
      "Zero\n",
      "Zero\n",
      "One\n",
      "Zero\n",
      "Total sum A===: 76\n",
      "\n",
      "B values\n",
      "Zero\n",
      "Zero\n",
      "Zero\n",
      "Zero\n",
      "Zero\n",
      "Zero\n",
      "Zero\n",
      "One\n",
      "Total sum B===: 128\n",
      "\n",
      "\n",
      "Total sum C===: 0 : 255\n",
      "Total sum D===: 0 : 15\n",
      "A greater than B\n",
      "\n",
      "\n",
      "Total sum C===: 1 : 63\n",
      "Total sum D===: 1 : 63\n",
      "A equals B\n",
      "\n",
      "\n",
      "Total sum C===: 2 : 15\n",
      "Total sum D===: 2 : 31\n",
      "A less than B\n",
      "\n",
      "\n"
     ]
    }
   ],
   "source": [
    "\n",
    "\"\"\"sum_total = 0\n",
    "print('\\ni values')\n",
    "for i in range(len(a)):\n",
    "    sum_total = int(sum_total) + int(sum(i))\n",
    "    print(\"i values: \" + str(sum(i)))\n",
    "    #print(\"Total sum: \" + str(sum_total))\n",
    "    \n",
    "print(\"Total sum===: \" + str(sum_total))\n",
    "\"\"\"\n",
    "    \n",
    "sum_total_A = 0\n",
    "a = rev_str(a)\n",
    "print('\\nA values')\n",
    "for i in range(len(a)):\n",
    "    if int(a[i]) == 1:\n",
    "        sum_total_A = int(sum_total_A) + int(sum(i))\n",
    "        print(\"One\")\n",
    "    else:\n",
    "        print(\"Zero\")\n",
    "    \n",
    "print(\"Total sum A===: \" + str(sum_total_A))  \n",
    "    \n",
    "sum_total_B = 0\n",
    "b = rev_str(b)\n",
    "print('\\nB values')\n",
    "for i in range(len(b)):\n",
    "    if int(b[i]) == 1:\n",
    "        print(\"One\")\n",
    "        sum_total_B = int(sum_total_B) + int(sum(i))\n",
    "    else:\n",
    "        print(\"Zero\")\n",
    "    \n",
    "print(\"Total sum B===: \" + str(sum_total_B)) \n",
    "print('\\n')\n",
    "\n",
    "\"\"\"\n",
    "#Three elements in C array\n",
    "i=0\n",
    "for element in c:\n",
    "    sum_total_C = 0\n",
    "    element = rev_str(element)\n",
    "    print('\\nC values')\n",
    "    for i in range(len(element)):\n",
    "        if int(element[i]) == 1:\n",
    "            print(\"One\")\n",
    "            sum_total_C = int(sum_total_C) + int(sum(i))\n",
    "        else:\n",
    "            print(\"Zero\")\n",
    "\n",
    "    print(\"Total sum C===: \" + i + \" : \" + str(sum_total_C)) \n",
    "    i = i+1\n",
    "    \n",
    "\n",
    "    print(rev_str(element))\n",
    "\"\"\"    \n",
    "    \n",
    "    \n",
    " #Three elements in C array\n",
    "i=0\n",
    "for element in c:\n",
    "    a = decimal_byte(c[i])\n",
    "    b = decimal_byte(d[i])\n",
    "    \n",
    "    print(\"Total sum C===: \" + str(i) + \" : \" + str(decimal_byte(c[i])))\n",
    "    print(\"Total sum D===: \" + str(i) + \" : \" + str(decimal_byte(d[i])))\n",
    "    \n",
    "    compare_decimal(a, b)\n",
    "    print('\\n')\n",
    "    i = i+1   \n",
    "\n",
    "     #Three elements in C array\n",
    "i=0\n",
    "for element in d:\n",
    "   \n",
    "    i = i+1 \n",
    "    "
   ]
  },
  {
   "cell_type": "code",
   "execution_count": null,
   "id": "0e4a603f",
   "metadata": {},
   "outputs": [],
   "source": []
  }
 ],
 "metadata": {
  "kernelspec": {
   "display_name": "Python 3",
   "language": "python",
   "name": "python3"
  },
  "language_info": {
   "codemirror_mode": {
    "name": "ipython",
    "version": 3
   },
   "file_extension": ".py",
   "mimetype": "text/x-python",
   "name": "python",
   "nbconvert_exporter": "python",
   "pygments_lexer": "ipython3",
   "version": "3.8.8"
  }
 },
 "nbformat": 4,
 "nbformat_minor": 5
}
